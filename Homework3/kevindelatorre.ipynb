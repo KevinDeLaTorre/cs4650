{
 "cells": [
  {
   "cell_type": "code",
   "execution_count": 29,
   "metadata": {},
   "outputs": [],
   "source": [
    "# Markdown Challenge"
   ]
  },
  {
   "cell_type": "markdown",
   "metadata": {},
   "source": [
    "# Status Codes"
   ]
  },
  {
   "cell_type": "markdown",
   "metadata": {},
   "source": [
    "Every web request returns a *status code* that says whether it was successful or had an error. The most famous status code is `404`."
   ]
  },
  {
   "cell_type": "markdown",
   "metadata": {},
   "source": [
    "## Common codes\n",
    "| Code | Description |\n",
    "| --- | --- |\n",
    "| 200 | OK |\n",
    "| 403 | Forbidden |\n",
    "| 404 | Not found |"
   ]
  },
  {
   "cell_type": "code",
   "execution_count": null,
   "metadata": {},
   "outputs": [],
   "source": []
  },
  {
   "cell_type": "markdown",
   "metadata": {},
   "source": [
    "# Documenting JSON Challenge"
   ]
  },
  {
   "cell_type": "markdown",
   "metadata": {},
   "source": [
    "## Step 1"
   ]
  },
  {
   "cell_type": "markdown",
   "metadata": {},
   "source": [
    "Weather forecast for single day"
   ]
  },
  {
   "cell_type": "markdown",
   "metadata": {},
   "source": [
    "| Element | Description | Type | Notes |\n",
    "| --- | --- | --- | --- |\n",
    "| date | Date of forecast | string | YYYY-MM-DD\n",
    "| description | Description of what the day should be like | string | Description can have values: \"sunny\", \"overcast\", \"partly cloudy\", \"raining\", and \"snowing\"\n",
    "| maxTemp | Expected maximum temperature of the day | number | In degrees Celsius\n",
    "| minTemp | Expected minimum temperature of the day | number | In degrees Celsius\n",
    "| windSpeed | Expected speed of wind of the day | number | In kilometers per hour\n",
    "| Danger | Is it dangerous to go outside | Boolean | |"
   ]
  },
  {
   "cell_type": "markdown",
   "metadata": {},
   "source": [
    "## Step 2"
   ]
  },
  {
   "cell_type": "markdown",
   "metadata": {},
   "source": [
    "Weather forecast for multiple days"
   ]
  },
  {
   "cell_type": "markdown",
   "metadata": {},
   "source": [
    "| Element | Description | Type | Notes |\n",
    "| --- | --- | --- | --- |\n",
    "| longitude | Longitude of location of forecast | number | |\n",
    "| latitude | Latitude of location of forecast | number | |\n",
    "| forecasts | Array of forecasts | array | |\n",
    "| &nbsp; &nbsp; date | Date of forecast | string | YYYY-MM-DD\n",
    "| &nbsp; &nbsp; description | Description of what the day should be like | string | Description can have values: \"sunny\", \"overcast\", \"partly cloudy\", \"raining\", and \"snowing\"\n",
    "| &nbsp; &nbsp; maxTemp | Expected maximum temperature of the day | number | In degrees Celsius\n",
    "| &nbsp; &nbsp; minTemp | Expected minimum temperature of the day | number | In degrees Celsius\n",
    "| &nbsp; &nbsp; windSpeed | Expected speed of wind of the day | number | In kilometers per hour\n",
    "| &nbsp; &nbsp; Danger | Is it dangerous to go outside | Boolean | |"
   ]
  },
  {
   "cell_type": "markdown",
   "metadata": {},
   "source": [
    "## Step 3"
   ]
  },
  {
   "cell_type": "markdown",
   "metadata": {},
   "source": [
    "API request to create a new meeting in an online calendar"
   ]
  },
  {
   "cell_type": "markdown",
   "metadata": {},
   "source": [
    "| Element | Description | Type | Required | Notes |\n",
    "| --- | --- | --- | --- | --- |\n",
    "| meeting | Top level | meeting data object | Required | |\n",
    "| &nbsp; &nbsp; time | Date and Time meeting takes place | string | Required | Format GMT: YYYY-MM-DD HH:MM |\n",
    "| &nbsp; &nbsp; duration | Duration of meeting | number | Required | |\n",
    "| &nbsp; &nbsp; description | Description about the meeting | string | Required | | \n",
    "| &nbsp; &nbsp; location | Location of the meeting | string | Optional | Optional, default is empty string\n",
    "| &nbsp; &nbsp; reminder | Set reminder this many minutes before meeting | number | optional | Optional, default is 10 minutes\n",
    "| &nbsp; &nbsp; invitees | People invited to the meeting | array | optional | Optional, default is empty array\n"
   ]
  },
  {
   "cell_type": "code",
   "execution_count": null,
   "metadata": {},
   "outputs": [],
   "source": []
  },
  {
   "cell_type": "markdown",
   "metadata": {},
   "source": [
    "# XML Documentation Challenge"
   ]
  },
  {
   "cell_type": "markdown",
   "metadata": {},
   "source": [
    "## Part 1"
   ]
  },
  {
   "cell_type": "markdown",
   "metadata": {},
   "source": [
    "Elements of an API request to record a TV program"
   ]
  },
  {
   "cell_type": "markdown",
   "metadata": {},
   "source": [
    "| Element | Description | Type | Notes |\n",
    "| --- | --- | --- | --- |\n",
    "| &nbsp; &nbsp; recordTV | Top level | recordTV data object | |\n",
    "| &nbsp; &nbsp; date | Date the TV program airs | string | This is optional, if not included today's date will be used \n",
    "| &nbsp; &nbsp; time | The time the TV program airs | string | Attribute: \"format\" can be either \"24\" or \"12\" for 24 or 12 hour formats\n",
    "| &nbsp; &nbsp; duration | The duration of the TV program | number | |\n",
    "| &nbsp; &nbsp; channel | Which channel the program airs on | number | |"
   ]
  },
  {
   "cell_type": "markdown",
   "metadata": {},
   "source": [
    "## Part 2"
   ]
  },
  {
   "cell_type": "markdown",
   "metadata": {},
   "source": [
    "Elements of an API request to record a TV program with more attribute functionality"
   ]
  },
  {
   "cell_type": "markdown",
   "metadata": {},
   "source": [
    "| Element | Attribute | Description | Type | Required | Notes |\n",
    "| --- | --- | --- | --- | --- | --- |\n",
    "| &nbsp; &nbsp; recordTV | | Top level | recordTV data object | Required | |\n",
    "| &nbsp; &nbsp; when | | Data on when the program airs | | Required | | \n",
    "| | date | Date the program airs | string | Optional | Format: YYYY-MM-DD. If blank default is today's date\n",
    "| | time | The time the TV program airs | string | Required | |\n",
    "| | format | Format the time is in (12/24hr) | number | Required | Either \"12\" or \"24\"\n",
    "| &nbsp; &nbsp; duration | hours | The duration of the TV program | number | Required | |\n",
    "| &nbsp; &nbsp; station | channel | The station and channel that airs the program | number | Required | |"
   ]
  },
  {
   "cell_type": "markdown",
   "metadata": {},
   "source": [
    "## Part 3"
   ]
  },
  {
   "cell_type": "markdown",
   "metadata": {},
   "source": [
    "Elements of an API request of an IoT museum sensor"
   ]
  },
  {
   "cell_type": "markdown",
   "metadata": {},
   "source": [
    "| Element | Attribute | Description | Type | Notes |\n",
    "| --- | --- | --- | --- | --- |\n",
    "| dailyData | | Top Level | dailyData object | |\n",
    "| &nbsp; &nbsp; date | | Date of data pulled | string | |\n",
    "| &nbsp; &nbsp; hourlyData | time | Contains the data from time given | number | Time is in local time |\n",
    "| &nbsp; &nbsp; &nbsp; &nbsp; device | | Device data | | |\n",
    "| | id | Id of device | number | |\n",
    "| | temperature | Temperature device is reading | number | In degrees F |\n",
    "| | humidity | Humidity device is reading | number | in percentage |"
   ]
  },
  {
   "cell_type": "code",
   "execution_count": null,
   "metadata": {},
   "outputs": [],
   "source": []
  }
 ],
 "metadata": {
  "celltoolbar": "Raw Cell Format",
  "kernelspec": {
   "display_name": "Python 3",
   "language": "python",
   "name": "python3"
  },
  "language_info": {
   "codemirror_mode": {
    "name": "ipython",
    "version": 3
   },
   "file_extension": ".py",
   "mimetype": "text/x-python",
   "name": "python",
   "nbconvert_exporter": "python",
   "pygments_lexer": "ipython3",
   "version": "3.8.5"
  }
 },
 "nbformat": 4,
 "nbformat_minor": 4
}
